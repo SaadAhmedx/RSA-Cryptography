{
 "cells": [
  {
   "cell_type": "code",
   "execution_count": 4,
   "metadata": {},
   "outputs": [
    {
     "name": "stdout",
     "output_type": "stream",
     "text": [
      "RSA Modulus: 38021\n",
      "Eulers Toitent: 37632\n"
     ]
    }
   ],
   "source": [
    "import math\n",
    " \n",
    "\n",
    "#Hardcoded Prime Number\n",
    "\n",
    "p = 193\n",
    "q = 197\n",
    "\n",
    " \n",
    "#RSA Modulus\n",
    "\n",
    "n = p * q\n",
    "print(\"RSA Modulus: {}\".format(n))\n",
    "\n",
    "#Eulers Toitent\n",
    "\n",
    "r = (p-1)*(q-1)\n",
    "print(\"Eulers Toitent: {}\".format(r))"
   ]
  },
  {
   "cell_type": "code",
   "execution_count": null,
   "metadata": {},
   "outputs": [],
   "source": []
  }
 ],
 "metadata": {
  "kernelspec": {
   "display_name": "Python 3",
   "language": "python",
   "name": "python3"
  },
  "language_info": {
   "codemirror_mode": {
    "name": "ipython",
    "version": 3
   },
   "file_extension": ".py",
   "mimetype": "text/x-python",
   "name": "python",
   "nbconvert_exporter": "python",
   "pygments_lexer": "ipython3",
   "version": "3.6.5"
  }
 },
 "nbformat": 4,
 "nbformat_minor": 2
}
